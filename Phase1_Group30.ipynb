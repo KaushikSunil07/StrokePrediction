{
 "cells": [
  {
   "cell_type": "markdown",
   "metadata": {},
   "source": [
    "# Assignment (Phase 1)\n",
    "\n",
    "### Group Name : Group 30 \n",
    "\n",
    "### Full Name: Kaushik Sunil Anagarkar \n",
    "\n",
    "### Student number : s3827495"
   ]
  },
  {
   "cell_type": "markdown",
   "metadata": {},
   "source": [
    "## <span style=\"color: #0099cc;\">Table of Contents\n",
    "- [Introduction](#1) <br/>\n",
    "    * [Data Source](#2) <br/>\n",
    "    * [Dataset Details](#3) <br/>\n",
    "    * [Dataset Features](#4) <br/>\n",
    "    * [Target Features](#5) <br/>\n",
    "- [Goals and Objectives](#6) <br/>\n",
    "- [Data Cleaning and Preprocessing](#7) <br/>\n",
    "    * [Descriptive Statistics](#8)<br/>\n",
    "    * [Removing Constant Features](#9)<br/>\n",
    "    * [Handling Missing Values](#10) <br/>\n",
    "    * [Handling Outliers](#11)<br/>\n",
    "- [Data Exploration and Visualisation](#12)<br/> \n",
    "    * [Univariable Visualization](#13)<br/>\n",
    "    * [Bivariable Visualization](#14)<br/>\n",
    "    * [Trivariable Visualization](#15)<br/>\n",
    "- [Summary and Conclusions](#16) <br/>\n",
    "- [References](#17) <br/>"
   ]
  },
  {
   "cell_type": "markdown",
   "metadata": {},
   "source": [
    "# <span style=\"color: #0099cc;\"> Introduction <a class=\"anchor\" id=\"1\"></a>"
   ]
  },
  {
   "cell_type": "markdown",
   "metadata": {},
   "source": [
    "###   <span style=\"color: #0099cc;\"> Data Source <a class=\"anchor\" id=\"2\"></a>\n",
    "\n",
    "Stroke Prediction Dataset consists of 5110 observations.The dataset is sourced from Kaggle Stroke Prediction Dataset\n",
    "Stroke Prediction Dataset. (2021). Retrieved 8 April 2021, from https://www.kaggle.com/fedesoriano/stroke-prediction-dataset"
   ]
  },
  {
   "cell_type": "markdown",
   "metadata": {},
   "source": [
    "###  <span style=\"color: #0099cc;\"> Dataset Details <a class=\"anchor\" id=\"3\"></a>\n",
    "\n",
    "According to the World Health Organization (WHO) stroke is the 2nd leading cause of death globally, responsible for approximately 11% of total deaths.\n",
    "This dataset is used to predict whether a patient is likely to get stroke based on the input parameters like gender, age, various diseases, and smoking status. Each row in the data provides relavant information about the patient.\n",
    "Stroke Prediction Dataset. (2021). Retrieved 8 April 2021, from https://www.kaggle.com/fedesoriano/stroke-prediction-dataset"
   ]
  },
  {
   "cell_type": "markdown",
   "metadata": {},
   "source": [
    "###  <span style=\"color: #0099cc;\"> Dataset Features <a class=\"anchor\" id=\"4\"></a>  \n",
    "\n",
    "The descriptive features are as produced \n",
    "\n",
    "\n",
    "|Feature | Datatype | Units | Brief Description |\n",
    "|-------------|-----------|---------|-----------|\n",
    "| id  | Nominal Categorical  | NA  | Unique Identifier |\n",
    "| gender | Nominal Categorical  | NA  |  Gender of the patient(\"Male\", \"Female\" or \"Other\") |\n",
    "| age  | Numerical  | NA  | age of the patient |\n",
    "| hypertension  | Binary  | NA  | 0 if the patient doesn't have hypertension, 1 if the patient has hypertension |\n",
    "| heart_disease | Binary  | NA  |  0 if the patient doesn't have any heart diseases, 1 if the patient has a heart disease |\n",
    "| ever_married  | Nominal Categorical | NA | Martial status of the patient( \"No\" or \"Yes\") |\n",
    "| work_type | Nominal Categorical | NA | Work type of the patient( \"children\", \"Govt_jov\", \"Never_worked\", \"Private\" or \"Self-employed\" )| \n",
    "| residence_type | Nominal Categorical | NA | Residence type of the patient(\"Rural\" or \"Urban\")\n",
    "|avg_glucose_level | Numerical |  mg/dl | Average glucose level in blood of the patient\n",
    "|bmi | Numerical | kg/m2 | BMI of the patient |\n",
    "| smoking_status | Ordinal Categorical | NA | Smoking status of the patient( \"formerly smoked\", \"never smoked\", \"smokes\" or \"Unknown\")\n",
    "\n",
    "* Note: \"Unknown\" in smoking_status means that the information is unavailable for this patient (Ordinal Categorical)"
   ]
  },
  {
   "cell_type": "markdown",
   "metadata": {},
   "source": [
    "### <span style=\"color: #0099cc;\"> Target Feature <a class=\"anchor\" id=\"5\"></a>  \n",
    "\n",
    "The target feature is **stroke** with levels 1 and 0.\n",
    "    \n",
    "\n",
    "|Feature | Datatype | Units | Brief Description |\n",
    "|-------------|-----------|---------|-----------|\n",
    "| stroke  | Binary | NA  | 1 if the patient had a stroke or 0 if not  |"
   ]
  },
  {
   "cell_type": "markdown",
   "metadata": {},
   "source": [
    "# <span style=\"color: #0099cc;\"> Goals and Objectives <a class=\"anchor\" id=\"6\"></a> \n",
    "\n",
    "\n",
    "The objective of this notebook is to clean the raw data using various data preprocessing techniques since data cleaning is one of the important and fundamental task to remove the errors and accuracies in the datasets which could have lead to inaccuracy in data modeling. After cleaning ,exploring the data to find important insights of the dataset and find any correlations between the features. "
   ]
  },
  {
   "cell_type": "markdown",
   "metadata": {},
   "source": [
    "# <span style=\"color: #0099cc;\"> Data Cleaning and Preprocessing <a class=\"anchor\" id=\"7\"></a> "
   ]
  },
  {
   "cell_type": "markdown",
   "metadata": {},
   "source": [
    "\n",
    "Import necessary libraries."
   ]
  },
  {
   "cell_type": "code",
   "execution_count": 1,
   "metadata": {},
   "outputs": [],
   "source": [
    "#import python libraries\n",
    "import numpy as np\n",
    "import pandas as pd \n",
    "import matplotlib.pyplot as plt\n",
    "import seaborn as sns \n",
    "import os \n",
    "import warnings\n",
    "import random\n",
    "\n",
    "warnings.filterwarnings(\"ignore\")\n",
    "%matplotlib inline\n",
    "\n",
    "pd.set_option('display.max_columns', None) "
   ]
  },
  {
   "cell_type": "code",
   "execution_count": 2,
   "metadata": {},
   "outputs": [
    {
     "data": {
      "text/html": [
       "<div>\n",
       "<style scoped>\n",
       "    .dataframe tbody tr th:only-of-type {\n",
       "        vertical-align: middle;\n",
       "    }\n",
       "\n",
       "    .dataframe tbody tr th {\n",
       "        vertical-align: top;\n",
       "    }\n",
       "\n",
       "    .dataframe thead th {\n",
       "        text-align: right;\n",
       "    }\n",
       "</style>\n",
       "<table border=\"1\" class=\"dataframe\">\n",
       "  <thead>\n",
       "    <tr style=\"text-align: right;\">\n",
       "      <th></th>\n",
       "      <th>id</th>\n",
       "      <th>gender</th>\n",
       "      <th>age</th>\n",
       "      <th>hypertension</th>\n",
       "      <th>heart_disease</th>\n",
       "      <th>ever_married</th>\n",
       "      <th>work_type</th>\n",
       "      <th>Residence_type</th>\n",
       "      <th>avg_glucose_level</th>\n",
       "      <th>bmi</th>\n",
       "      <th>smoking_status</th>\n",
       "      <th>stroke</th>\n",
       "    </tr>\n",
       "  </thead>\n",
       "  <tbody>\n",
       "    <tr>\n",
       "      <th>0</th>\n",
       "      <td>9046</td>\n",
       "      <td>Male</td>\n",
       "      <td>67.0</td>\n",
       "      <td>0</td>\n",
       "      <td>1</td>\n",
       "      <td>Yes</td>\n",
       "      <td>Private</td>\n",
       "      <td>Urban</td>\n",
       "      <td>228.69</td>\n",
       "      <td>36.6</td>\n",
       "      <td>formerly smoked</td>\n",
       "      <td>1</td>\n",
       "    </tr>\n",
       "    <tr>\n",
       "      <th>1</th>\n",
       "      <td>51676</td>\n",
       "      <td>Female</td>\n",
       "      <td>61.0</td>\n",
       "      <td>0</td>\n",
       "      <td>0</td>\n",
       "      <td>Yes</td>\n",
       "      <td>Self-employed</td>\n",
       "      <td>Rural</td>\n",
       "      <td>202.21</td>\n",
       "      <td>NaN</td>\n",
       "      <td>never smoked</td>\n",
       "      <td>1</td>\n",
       "    </tr>\n",
       "    <tr>\n",
       "      <th>2</th>\n",
       "      <td>31112</td>\n",
       "      <td>Male</td>\n",
       "      <td>80.0</td>\n",
       "      <td>0</td>\n",
       "      <td>1</td>\n",
       "      <td>Yes</td>\n",
       "      <td>Private</td>\n",
       "      <td>Rural</td>\n",
       "      <td>105.92</td>\n",
       "      <td>32.5</td>\n",
       "      <td>never smoked</td>\n",
       "      <td>1</td>\n",
       "    </tr>\n",
       "    <tr>\n",
       "      <th>3</th>\n",
       "      <td>60182</td>\n",
       "      <td>Female</td>\n",
       "      <td>49.0</td>\n",
       "      <td>0</td>\n",
       "      <td>0</td>\n",
       "      <td>Yes</td>\n",
       "      <td>Private</td>\n",
       "      <td>Urban</td>\n",
       "      <td>171.23</td>\n",
       "      <td>34.4</td>\n",
       "      <td>smokes</td>\n",
       "      <td>1</td>\n",
       "    </tr>\n",
       "    <tr>\n",
       "      <th>4</th>\n",
       "      <td>1665</td>\n",
       "      <td>Female</td>\n",
       "      <td>79.0</td>\n",
       "      <td>1</td>\n",
       "      <td>0</td>\n",
       "      <td>Yes</td>\n",
       "      <td>Self-employed</td>\n",
       "      <td>Rural</td>\n",
       "      <td>174.12</td>\n",
       "      <td>24.0</td>\n",
       "      <td>never smoked</td>\n",
       "      <td>1</td>\n",
       "    </tr>\n",
       "  </tbody>\n",
       "</table>\n",
       "</div>"
      ],
      "text/plain": [
       "      id  gender   age  hypertension  heart_disease ever_married  \\\n",
       "0   9046    Male  67.0             0              1          Yes   \n",
       "1  51676  Female  61.0             0              0          Yes   \n",
       "2  31112    Male  80.0             0              1          Yes   \n",
       "3  60182  Female  49.0             0              0          Yes   \n",
       "4   1665  Female  79.0             1              0          Yes   \n",
       "\n",
       "       work_type Residence_type  avg_glucose_level   bmi   smoking_status  \\\n",
       "0        Private          Urban             228.69  36.6  formerly smoked   \n",
       "1  Self-employed          Rural             202.21   NaN     never smoked   \n",
       "2        Private          Rural             105.92  32.5     never smoked   \n",
       "3        Private          Urban             171.23  34.4           smokes   \n",
       "4  Self-employed          Rural             174.12  24.0     never smoked   \n",
       "\n",
       "   stroke  \n",
       "0       1  \n",
       "1       1  \n",
       "2       1  \n",
       "3       1  \n",
       "4       1  "
      ]
     },
     "execution_count": 2,
     "metadata": {},
     "output_type": "execute_result"
    }
   ],
   "source": [
    "#Importing the datafile from local device\n",
    "stroke = pd.read_csv('Data_Group30.csv')\n",
    "stroke.head()"
   ]
  },
  {
   "cell_type": "code",
   "execution_count": 3,
   "metadata": {},
   "outputs": [
    {
     "data": {
      "text/html": [
       "<div>\n",
       "<style scoped>\n",
       "    .dataframe tbody tr th:only-of-type {\n",
       "        vertical-align: middle;\n",
       "    }\n",
       "\n",
       "    .dataframe tbody tr th {\n",
       "        vertical-align: top;\n",
       "    }\n",
       "\n",
       "    .dataframe thead th {\n",
       "        text-align: right;\n",
       "    }\n",
       "</style>\n",
       "<table border=\"1\" class=\"dataframe\">\n",
       "  <thead>\n",
       "    <tr style=\"text-align: right;\">\n",
       "      <th></th>\n",
       "      <th>id</th>\n",
       "      <th>gender</th>\n",
       "      <th>age</th>\n",
       "      <th>hypertension</th>\n",
       "      <th>heart_disease</th>\n",
       "      <th>ever_married</th>\n",
       "      <th>work_type</th>\n",
       "      <th>Residence_type</th>\n",
       "      <th>avg_glucose_level</th>\n",
       "      <th>bmi</th>\n",
       "      <th>smoking_status</th>\n",
       "      <th>stroke</th>\n",
       "    </tr>\n",
       "  </thead>\n",
       "  <tbody>\n",
       "    <tr>\n",
       "      <th>4358</th>\n",
       "      <td>33924</td>\n",
       "      <td>Female</td>\n",
       "      <td>26.0</td>\n",
       "      <td>0</td>\n",
       "      <td>0</td>\n",
       "      <td>No</td>\n",
       "      <td>Private</td>\n",
       "      <td>Urban</td>\n",
       "      <td>80.94</td>\n",
       "      <td>22.2</td>\n",
       "      <td>smokes</td>\n",
       "      <td>0</td>\n",
       "    </tr>\n",
       "    <tr>\n",
       "      <th>4779</th>\n",
       "      <td>65892</td>\n",
       "      <td>Female</td>\n",
       "      <td>58.0</td>\n",
       "      <td>0</td>\n",
       "      <td>0</td>\n",
       "      <td>Yes</td>\n",
       "      <td>Self-employed</td>\n",
       "      <td>Urban</td>\n",
       "      <td>66.71</td>\n",
       "      <td>51.7</td>\n",
       "      <td>never smoked</td>\n",
       "      <td>0</td>\n",
       "    </tr>\n",
       "    <tr>\n",
       "      <th>931</th>\n",
       "      <td>54620</td>\n",
       "      <td>Male</td>\n",
       "      <td>40.0</td>\n",
       "      <td>0</td>\n",
       "      <td>0</td>\n",
       "      <td>Yes</td>\n",
       "      <td>Private</td>\n",
       "      <td>Urban</td>\n",
       "      <td>78.11</td>\n",
       "      <td>35.3</td>\n",
       "      <td>never smoked</td>\n",
       "      <td>0</td>\n",
       "    </tr>\n",
       "    <tr>\n",
       "      <th>3917</th>\n",
       "      <td>67635</td>\n",
       "      <td>Male</td>\n",
       "      <td>24.0</td>\n",
       "      <td>0</td>\n",
       "      <td>0</td>\n",
       "      <td>No</td>\n",
       "      <td>Private</td>\n",
       "      <td>Urban</td>\n",
       "      <td>90.00</td>\n",
       "      <td>25.5</td>\n",
       "      <td>never smoked</td>\n",
       "      <td>0</td>\n",
       "    </tr>\n",
       "    <tr>\n",
       "      <th>1095</th>\n",
       "      <td>954</td>\n",
       "      <td>Male</td>\n",
       "      <td>18.0</td>\n",
       "      <td>0</td>\n",
       "      <td>0</td>\n",
       "      <td>No</td>\n",
       "      <td>Private</td>\n",
       "      <td>Rural</td>\n",
       "      <td>103.94</td>\n",
       "      <td>23.3</td>\n",
       "      <td>never smoked</td>\n",
       "      <td>0</td>\n",
       "    </tr>\n",
       "    <tr>\n",
       "      <th>571</th>\n",
       "      <td>721</td>\n",
       "      <td>Female</td>\n",
       "      <td>52.0</td>\n",
       "      <td>1</td>\n",
       "      <td>0</td>\n",
       "      <td>Yes</td>\n",
       "      <td>Self-employed</td>\n",
       "      <td>Urban</td>\n",
       "      <td>114.25</td>\n",
       "      <td>24.3</td>\n",
       "      <td>formerly smoked</td>\n",
       "      <td>0</td>\n",
       "    </tr>\n",
       "    <tr>\n",
       "      <th>340</th>\n",
       "      <td>10449</td>\n",
       "      <td>Female</td>\n",
       "      <td>24.0</td>\n",
       "      <td>0</td>\n",
       "      <td>0</td>\n",
       "      <td>Yes</td>\n",
       "      <td>Private</td>\n",
       "      <td>Urban</td>\n",
       "      <td>75.23</td>\n",
       "      <td>29.0</td>\n",
       "      <td>never smoked</td>\n",
       "      <td>0</td>\n",
       "    </tr>\n",
       "    <tr>\n",
       "      <th>4488</th>\n",
       "      <td>5170</td>\n",
       "      <td>Male</td>\n",
       "      <td>42.0</td>\n",
       "      <td>0</td>\n",
       "      <td>0</td>\n",
       "      <td>Yes</td>\n",
       "      <td>Govt_job</td>\n",
       "      <td>Rural</td>\n",
       "      <td>67.97</td>\n",
       "      <td>23.8</td>\n",
       "      <td>Unknown</td>\n",
       "      <td>0</td>\n",
       "    </tr>\n",
       "    <tr>\n",
       "      <th>4123</th>\n",
       "      <td>32523</td>\n",
       "      <td>Male</td>\n",
       "      <td>68.0</td>\n",
       "      <td>0</td>\n",
       "      <td>1</td>\n",
       "      <td>Yes</td>\n",
       "      <td>Private</td>\n",
       "      <td>Urban</td>\n",
       "      <td>217.74</td>\n",
       "      <td>25.5</td>\n",
       "      <td>Unknown</td>\n",
       "      <td>0</td>\n",
       "    </tr>\n",
       "    <tr>\n",
       "      <th>5088</th>\n",
       "      <td>22190</td>\n",
       "      <td>Female</td>\n",
       "      <td>64.0</td>\n",
       "      <td>1</td>\n",
       "      <td>0</td>\n",
       "      <td>Yes</td>\n",
       "      <td>Self-employed</td>\n",
       "      <td>Urban</td>\n",
       "      <td>76.89</td>\n",
       "      <td>30.2</td>\n",
       "      <td>Unknown</td>\n",
       "      <td>0</td>\n",
       "    </tr>\n",
       "  </tbody>\n",
       "</table>\n",
       "</div>"
      ],
      "text/plain": [
       "         id  gender   age  hypertension  heart_disease ever_married  \\\n",
       "4358  33924  Female  26.0             0              0           No   \n",
       "4779  65892  Female  58.0             0              0          Yes   \n",
       "931   54620    Male  40.0             0              0          Yes   \n",
       "3917  67635    Male  24.0             0              0           No   \n",
       "1095    954    Male  18.0             0              0           No   \n",
       "571     721  Female  52.0             1              0          Yes   \n",
       "340   10449  Female  24.0             0              0          Yes   \n",
       "4488   5170    Male  42.0             0              0          Yes   \n",
       "4123  32523    Male  68.0             0              1          Yes   \n",
       "5088  22190  Female  64.0             1              0          Yes   \n",
       "\n",
       "          work_type Residence_type  avg_glucose_level   bmi   smoking_status  \\\n",
       "4358        Private          Urban              80.94  22.2           smokes   \n",
       "4779  Self-employed          Urban              66.71  51.7     never smoked   \n",
       "931         Private          Urban              78.11  35.3     never smoked   \n",
       "3917        Private          Urban              90.00  25.5     never smoked   \n",
       "1095        Private          Rural             103.94  23.3     never smoked   \n",
       "571   Self-employed          Urban             114.25  24.3  formerly smoked   \n",
       "340         Private          Urban              75.23  29.0     never smoked   \n",
       "4488       Govt_job          Rural              67.97  23.8          Unknown   \n",
       "4123        Private          Urban             217.74  25.5          Unknown   \n",
       "5088  Self-employed          Urban              76.89  30.2          Unknown   \n",
       "\n",
       "      stroke  \n",
       "4358       0  \n",
       "4779       0  \n",
       "931        0  \n",
       "3917       0  \n",
       "1095       0  \n",
       "571        0  \n",
       "340        0  \n",
       "4488       0  \n",
       "4123       0  \n",
       "5088       0  "
      ]
     },
     "execution_count": 3,
     "metadata": {},
     "output_type": "execute_result"
    }
   ],
   "source": [
    "#display the 10 sampled data observation \n",
    "stroke.sample(10,random_state=999)"
   ]
  },
  {
   "cell_type": "code",
   "execution_count": 4,
   "metadata": {},
   "outputs": [
    {
     "data": {
      "text/plain": [
       "(5110, 12)"
      ]
     },
     "execution_count": 4,
     "metadata": {},
     "output_type": "execute_result"
    }
   ],
   "source": [
    "#shape of stroke dataframe \n",
    "stroke.shape"
   ]
  },
  {
   "cell_type": "code",
   "execution_count": 5,
   "metadata": {},
   "outputs": [
    {
     "name": "stdout",
     "output_type": "stream",
     "text": [
      "<class 'pandas.core.frame.DataFrame'>\n",
      "RangeIndex: 5110 entries, 0 to 5109\n",
      "Data columns (total 12 columns):\n",
      " #   Column             Non-Null Count  Dtype  \n",
      "---  ------             --------------  -----  \n",
      " 0   id                 5110 non-null   int64  \n",
      " 1   gender             5110 non-null   object \n",
      " 2   age                5110 non-null   float64\n",
      " 3   hypertension       5110 non-null   int64  \n",
      " 4   heart_disease      5110 non-null   int64  \n",
      " 5   ever_married       5110 non-null   object \n",
      " 6   work_type          5110 non-null   object \n",
      " 7   Residence_type     5110 non-null   object \n",
      " 8   avg_glucose_level  5110 non-null   float64\n",
      " 9   bmi                4909 non-null   float64\n",
      " 10  smoking_status     5110 non-null   object \n",
      " 11  stroke             5110 non-null   int64  \n",
      "dtypes: float64(3), int64(4), object(5)\n",
      "memory usage: 479.2+ KB\n"
     ]
    }
   ],
   "source": [
    "#info of the dataset\n",
    "stroke.info()"
   ]
  },
  {
   "cell_type": "code",
   "execution_count": 6,
   "metadata": {},
   "outputs": [
    {
     "name": "stdout",
     "output_type": "stream",
     "text": [
      "The Unique values of the Column :  id\n",
      "[   67    77    84 ... 72915 72918 72940]\n",
      "*********************************************\n",
      "The Unique values of the Column :  gender\n",
      "['Female' 'Male' 'Other']\n",
      "*********************************************\n",
      "The Unique values of the Column :  age\n",
      "[8.00e-02 1.60e-01 2.40e-01 3.20e-01 4.00e-01 4.80e-01 5.60e-01 6.40e-01\n",
      " 7.20e-01 8.00e-01 8.80e-01 1.00e+00 1.08e+00 1.16e+00 1.24e+00 1.32e+00\n",
      " 1.40e+00 1.48e+00 1.56e+00 1.64e+00 1.72e+00 1.80e+00 1.88e+00 2.00e+00\n",
      " 3.00e+00 4.00e+00 5.00e+00 6.00e+00 7.00e+00 8.00e+00 9.00e+00 1.00e+01\n",
      " 1.10e+01 1.20e+01 1.30e+01 1.40e+01 1.50e+01 1.60e+01 1.70e+01 1.80e+01\n",
      " 1.90e+01 2.00e+01 2.10e+01 2.20e+01 2.30e+01 2.40e+01 2.50e+01 2.60e+01\n",
      " 2.70e+01 2.80e+01 2.90e+01 3.00e+01 3.10e+01 3.20e+01 3.30e+01 3.40e+01\n",
      " 3.50e+01 3.60e+01 3.70e+01 3.80e+01 3.90e+01 4.00e+01 4.10e+01 4.20e+01\n",
      " 4.30e+01 4.40e+01 4.50e+01 4.60e+01 4.70e+01 4.80e+01 4.90e+01 5.00e+01\n",
      " 5.10e+01 5.20e+01 5.30e+01 5.40e+01 5.50e+01 5.60e+01 5.70e+01 5.80e+01\n",
      " 5.90e+01 6.00e+01 6.10e+01 6.20e+01 6.30e+01 6.40e+01 6.50e+01 6.60e+01\n",
      " 6.70e+01 6.80e+01 6.90e+01 7.00e+01 7.10e+01 7.20e+01 7.30e+01 7.40e+01\n",
      " 7.50e+01 7.60e+01 7.70e+01 7.80e+01 7.90e+01 8.00e+01 8.10e+01 8.20e+01]\n",
      "*********************************************\n",
      "The Unique values of the Column :  hypertension\n",
      "[0 1]\n",
      "*********************************************\n",
      "The Unique values of the Column :  heart_disease\n",
      "[0 1]\n",
      "*********************************************\n",
      "The Unique values of the Column :  ever_married\n",
      "['No' 'Yes']\n",
      "*********************************************\n",
      "The Unique values of the Column :  work_type\n",
      "['Govt_job' 'Never_worked' 'Private' 'Self-employed' 'children']\n",
      "*********************************************\n",
      "The Unique values of the Column :  Residence_type\n",
      "['Rural' 'Urban']\n",
      "*********************************************\n",
      "The Unique values of the Column :  avg_glucose_level\n",
      "[ 55.12  55.22  55.23 ... 267.61 267.76 271.74]\n",
      "*********************************************\n",
      "The Unique values of the Column :  bmi\n",
      "[10.3 11.3 11.5 12.  12.3 12.8 13.  13.2 13.3 13.4 13.5 13.7 13.8 13.9\n",
      " 14.  14.1 14.2 14.3 14.4 14.5 14.6 14.8 14.9 15.  15.1 15.2 15.3 15.4\n",
      " 15.5 15.6 15.7 15.8 15.9 16.  16.1 16.2 16.3 16.4 16.5 16.6 16.7 16.8\n",
      " 16.9 17.  17.1 17.2 17.3 17.4 17.5 17.6 17.7 17.8 17.9 18.  18.1 18.2\n",
      " 18.3 18.4 18.5 18.6 18.7 18.8 18.9 19.  19.1 19.2 19.3 19.4 19.5 19.6\n",
      " 19.7 19.8 19.9 20.  20.1 20.2 20.3 20.4 20.5 20.6 20.7 20.8 20.9 21.\n",
      " 21.1 21.2 21.3 21.4 21.5 21.6 21.7 21.8 21.9 22.  22.1 22.2 22.3 22.4\n",
      " 22.5 22.6 22.7 22.8 22.9 23.  23.1 23.2 23.3 23.4 23.5 23.6 23.7 23.8\n",
      " 23.9 24.  24.1 24.2 24.3 24.4 24.5 24.6 24.7 24.8 24.9 25.  25.1 25.2\n",
      " 25.3 25.4 25.5 25.6 25.7 25.8 25.9 26.  26.1 26.2 26.3 26.4 26.5 26.6\n",
      " 26.7 26.8 26.9 27.  27.1 27.2 27.3 27.4 27.5 27.6 27.7 27.8 27.9 28.\n",
      " 28.1 28.2 28.3 28.4 28.5 28.6 28.7 28.8 28.9 29.  29.1 29.2 29.3 29.4\n",
      " 29.5 29.6 29.7 29.8 29.9 30.  30.1 30.2 30.3 30.4 30.5 30.6 30.7 30.8\n",
      " 30.9 31.  31.1 31.2 31.3 31.4 31.5 31.6 31.7 31.8 31.9 32.  32.1 32.2\n",
      " 32.3 32.4 32.5 32.6 32.7 32.8 32.9 33.  33.1 33.2 33.3 33.4 33.5 33.6\n",
      " 33.7 33.8 33.9 34.  34.1 34.2 34.3 34.4 34.5 34.6 34.7 34.8 34.9 35.\n",
      " 35.1 35.2 35.3 35.4 35.5 35.6 35.7 35.8 35.9 36.  36.1 36.2 36.3 36.4\n",
      " 36.5 36.6 36.7 36.8 36.9 37.  37.1 37.2 37.3 37.4 37.5 37.6 37.7 37.8\n",
      " 37.9 38.  38.1 38.2 38.3 38.4 38.5 38.6 38.7 38.8 38.9 39.  39.1 39.2\n",
      " 39.3 39.4 39.5 39.6 39.7 39.8 39.9 40.  40.1 40.2 40.3 40.4 40.5 40.6\n",
      " 40.7 40.8 40.9 41.  41.1 41.2 41.3 41.4 41.5 41.6 41.7 41.8 41.9 42.\n",
      " 42.1 42.2 42.3 42.4 42.5 42.6 42.7 42.8 42.9 43.  43.1 43.2 43.3 43.4\n",
      " 43.6 43.7 43.8 43.9 44.  44.1 44.2 44.3 44.4 44.5 44.6 44.7 44.8 44.9\n",
      " 45.  45.1 45.2 45.3 45.4 45.5 45.7 45.8 45.9 46.  46.1 46.2 46.3 46.4\n",
      " 46.5 46.6 46.8 46.9 47.1 47.3 47.4 47.5 47.6 47.8 47.9 48.  48.1 48.2\n",
      " 48.3 48.4 48.5 48.7 48.8 48.9 49.2 49.3 49.4 49.5 49.8 49.9 50.1 50.2\n",
      " 50.3 50.4 50.5 50.6 50.8 50.9 51.  51.5 51.7 51.8 51.9 52.3 52.5 52.7\n",
      " 52.8 52.9 53.4 53.5 53.8 53.9 54.  54.1 54.2 54.3 54.6 54.7 54.8 55.\n",
      " 55.1 55.2 55.7 55.9 56.  56.1 56.6 57.2 57.3 57.5 57.7 57.9 58.1 59.7\n",
      " 60.2 60.9 61.2 61.6 63.3 64.4 64.8 66.8 71.9 78.  92.  97.6  nan  nan\n",
      "  nan  nan  nan  nan  nan  nan  nan  nan  nan  nan  nan  nan  nan  nan\n",
      "  nan  nan  nan  nan  nan  nan  nan  nan  nan  nan  nan  nan  nan  nan\n",
      "  nan  nan  nan  nan  nan  nan  nan  nan  nan  nan  nan  nan  nan  nan\n",
      "  nan  nan  nan  nan  nan  nan  nan  nan  nan  nan  nan  nan  nan  nan\n",
      "  nan  nan  nan  nan  nan  nan  nan  nan  nan  nan  nan  nan  nan  nan\n",
      "  nan  nan  nan  nan  nan  nan  nan  nan  nan  nan  nan  nan  nan  nan\n",
      "  nan  nan  nan  nan  nan  nan  nan  nan  nan  nan  nan  nan  nan  nan\n",
      "  nan  nan  nan  nan  nan  nan  nan  nan  nan  nan  nan  nan  nan  nan\n",
      "  nan  nan  nan  nan  nan  nan  nan  nan  nan  nan  nan  nan  nan  nan\n",
      "  nan  nan  nan  nan  nan  nan  nan  nan  nan  nan  nan  nan  nan  nan\n",
      "  nan  nan  nan  nan  nan  nan  nan  nan  nan  nan  nan  nan  nan  nan\n",
      "  nan  nan  nan  nan  nan  nan  nan  nan  nan  nan  nan  nan  nan  nan\n",
      "  nan  nan  nan  nan  nan  nan  nan  nan  nan  nan  nan  nan  nan  nan\n",
      "  nan  nan  nan  nan  nan  nan  nan  nan  nan  nan  nan  nan  nan  nan\n",
      "  nan  nan  nan]\n",
      "*********************************************\n",
      "The Unique values of the Column :  smoking_status\n",
      "['Unknown' 'formerly smoked' 'never smoked' 'smokes']\n",
      "*********************************************\n",
      "The Unique values of the Column :  stroke\n",
      "[0 1]\n",
      "*********************************************\n"
     ]
    }
   ],
   "source": [
    "#check the unique values of all features\n",
    "for i in stroke.columns:\n",
    "    print(\"The Unique values of the Column : \" , i )\n",
    "    print(np.unique(stroke[i]))\n",
    "    print(\"*********************************************\")"
   ]
  },
  {
   "cell_type": "code",
   "execution_count": 7,
   "metadata": {},
   "outputs": [
    {
     "name": "stdout",
     "output_type": "stream",
     "text": [
      "The value counts of the Column :  id\n",
      "49152    1\n",
      "21785    1\n",
      "25982    1\n",
      "5500     1\n",
      "28027    1\n",
      "        ..\n",
      "45759    1\n",
      "4795     1\n",
      "47802    1\n",
      "49849    1\n",
      "16380    1\n",
      "Name: id, Length: 5110, dtype: int64\n",
      "*********************************************\n",
      "The value counts of the Column :  gender\n",
      "Female    2994\n",
      "Male      2115\n",
      "Other        1\n",
      "Name: gender, dtype: int64\n",
      "*********************************************\n",
      "The value counts of the Column :  age\n",
      "78.00    102\n",
      "57.00     95\n",
      "52.00     90\n",
      "54.00     87\n",
      "51.00     86\n",
      "        ... \n",
      "0.48       3\n",
      "1.40       3\n",
      "0.16       3\n",
      "0.08       2\n",
      "0.40       2\n",
      "Name: age, Length: 104, dtype: int64\n",
      "*********************************************\n",
      "The value counts of the Column :  hypertension\n",
      "0    4612\n",
      "1     498\n",
      "Name: hypertension, dtype: int64\n",
      "*********************************************\n",
      "The value counts of the Column :  heart_disease\n",
      "0    4834\n",
      "1     276\n",
      "Name: heart_disease, dtype: int64\n",
      "*********************************************\n",
      "The value counts of the Column :  ever_married\n",
      "Yes    3353\n",
      "No     1757\n",
      "Name: ever_married, dtype: int64\n",
      "*********************************************\n",
      "The value counts of the Column :  work_type\n",
      "Private          2925\n",
      "Self-employed     819\n",
      "children          687\n",
      "Govt_job          657\n",
      "Never_worked       22\n",
      "Name: work_type, dtype: int64\n",
      "*********************************************\n",
      "The value counts of the Column :  Residence_type\n",
      "Urban    2596\n",
      "Rural    2514\n",
      "Name: Residence_type, dtype: int64\n",
      "*********************************************\n",
      "The value counts of the Column :  avg_glucose_level\n",
      "93.88     6\n",
      "72.49     5\n",
      "84.10     5\n",
      "91.68     5\n",
      "83.16     5\n",
      "         ..\n",
      "95.02     1\n",
      "120.09    1\n",
      "197.58    1\n",
      "99.91     1\n",
      "60.50     1\n",
      "Name: avg_glucose_level, Length: 3979, dtype: int64\n",
      "*********************************************\n",
      "The value counts of the Column :  bmi\n",
      "28.7    41\n",
      "28.4    38\n",
      "27.7    37\n",
      "27.6    37\n",
      "26.7    37\n",
      "        ..\n",
      "48.0     1\n",
      "49.4     1\n",
      "47.4     1\n",
      "46.6     1\n",
      "54.0     1\n",
      "Name: bmi, Length: 418, dtype: int64\n",
      "*********************************************\n",
      "The value counts of the Column :  smoking_status\n",
      "never smoked       1892\n",
      "Unknown            1544\n",
      "formerly smoked     885\n",
      "smokes              789\n",
      "Name: smoking_status, dtype: int64\n",
      "*********************************************\n",
      "The value counts of the Column :  stroke\n",
      "0    4861\n",
      "1     249\n",
      "Name: stroke, dtype: int64\n",
      "*********************************************\n"
     ]
    }
   ],
   "source": [
    "#check the value counts of all features\n",
    "for i in stroke.columns:\n",
    "    print(\"The value counts of the Column : \" , i )\n",
    "    print(stroke[i].value_counts())\n",
    "    print(\"*********************************************\")"
   ]
  },
  {
   "cell_type": "markdown",
   "metadata": {},
   "source": [
    "### <span style=\"color: #0099cc;\"> Descriptive Statistics <a class=\"anchor\" id=\"8\"></a> "
   ]
  },
  {
   "cell_type": "code",
   "execution_count": 8,
   "metadata": {},
   "outputs": [
    {
     "data": {
      "text/html": [
       "<div>\n",
       "<style scoped>\n",
       "    .dataframe tbody tr th:only-of-type {\n",
       "        vertical-align: middle;\n",
       "    }\n",
       "\n",
       "    .dataframe tbody tr th {\n",
       "        vertical-align: top;\n",
       "    }\n",
       "\n",
       "    .dataframe thead th {\n",
       "        text-align: right;\n",
       "    }\n",
       "</style>\n",
       "<table border=\"1\" class=\"dataframe\">\n",
       "  <thead>\n",
       "    <tr style=\"text-align: right;\">\n",
       "      <th></th>\n",
       "      <th>id</th>\n",
       "      <th>age</th>\n",
       "      <th>hypertension</th>\n",
       "      <th>heart_disease</th>\n",
       "      <th>avg_glucose_level</th>\n",
       "      <th>bmi</th>\n",
       "      <th>stroke</th>\n",
       "    </tr>\n",
       "  </thead>\n",
       "  <tbody>\n",
       "    <tr>\n",
       "      <th>count</th>\n",
       "      <td>5110.000</td>\n",
       "      <td>5110.000</td>\n",
       "      <td>5110.000</td>\n",
       "      <td>5110.000</td>\n",
       "      <td>5110.000</td>\n",
       "      <td>4909.000</td>\n",
       "      <td>5110.000</td>\n",
       "    </tr>\n",
       "    <tr>\n",
       "      <th>mean</th>\n",
       "      <td>36517.829</td>\n",
       "      <td>43.227</td>\n",
       "      <td>0.097</td>\n",
       "      <td>0.054</td>\n",
       "      <td>106.148</td>\n",
       "      <td>28.893</td>\n",
       "      <td>0.049</td>\n",
       "    </tr>\n",
       "    <tr>\n",
       "      <th>std</th>\n",
       "      <td>21161.722</td>\n",
       "      <td>22.613</td>\n",
       "      <td>0.297</td>\n",
       "      <td>0.226</td>\n",
       "      <td>45.284</td>\n",
       "      <td>7.854</td>\n",
       "      <td>0.215</td>\n",
       "    </tr>\n",
       "    <tr>\n",
       "      <th>min</th>\n",
       "      <td>67.000</td>\n",
       "      <td>0.080</td>\n",
       "      <td>0.000</td>\n",
       "      <td>0.000</td>\n",
       "      <td>55.120</td>\n",
       "      <td>10.300</td>\n",
       "      <td>0.000</td>\n",
       "    </tr>\n",
       "    <tr>\n",
       "      <th>25%</th>\n",
       "      <td>17741.250</td>\n",
       "      <td>25.000</td>\n",
       "      <td>0.000</td>\n",
       "      <td>0.000</td>\n",
       "      <td>77.245</td>\n",
       "      <td>23.500</td>\n",
       "      <td>0.000</td>\n",
       "    </tr>\n",
       "    <tr>\n",
       "      <th>50%</th>\n",
       "      <td>36932.000</td>\n",
       "      <td>45.000</td>\n",
       "      <td>0.000</td>\n",
       "      <td>0.000</td>\n",
       "      <td>91.885</td>\n",
       "      <td>28.100</td>\n",
       "      <td>0.000</td>\n",
       "    </tr>\n",
       "    <tr>\n",
       "      <th>75%</th>\n",
       "      <td>54682.000</td>\n",
       "      <td>61.000</td>\n",
       "      <td>0.000</td>\n",
       "      <td>0.000</td>\n",
       "      <td>114.090</td>\n",
       "      <td>33.100</td>\n",
       "      <td>0.000</td>\n",
       "    </tr>\n",
       "    <tr>\n",
       "      <th>max</th>\n",
       "      <td>72940.000</td>\n",
       "      <td>82.000</td>\n",
       "      <td>1.000</td>\n",
       "      <td>1.000</td>\n",
       "      <td>271.740</td>\n",
       "      <td>97.600</td>\n",
       "      <td>1.000</td>\n",
       "    </tr>\n",
       "  </tbody>\n",
       "</table>\n",
       "</div>"
      ],
      "text/plain": [
       "              id       age  hypertension  heart_disease  avg_glucose_level  \\\n",
       "count   5110.000  5110.000      5110.000       5110.000           5110.000   \n",
       "mean   36517.829    43.227         0.097          0.054            106.148   \n",
       "std    21161.722    22.613         0.297          0.226             45.284   \n",
       "min       67.000     0.080         0.000          0.000             55.120   \n",
       "25%    17741.250    25.000         0.000          0.000             77.245   \n",
       "50%    36932.000    45.000         0.000          0.000             91.885   \n",
       "75%    54682.000    61.000         0.000          0.000            114.090   \n",
       "max    72940.000    82.000         1.000          1.000            271.740   \n",
       "\n",
       "            bmi    stroke  \n",
       "count  4909.000  5110.000  \n",
       "mean     28.893     0.049  \n",
       "std       7.854     0.215  \n",
       "min      10.300     0.000  \n",
       "25%      23.500     0.000  \n",
       "50%      28.100     0.000  \n",
       "75%      33.100     0.000  \n",
       "max      97.600     1.000  "
      ]
     },
     "execution_count": 8,
     "metadata": {},
     "output_type": "execute_result"
    }
   ],
   "source": [
    "#descriptive statistics of the numeric columns\n",
    "stroke.describe().round(3)"
   ]
  },
  {
   "cell_type": "code",
   "execution_count": 9,
   "metadata": {},
   "outputs": [
    {
     "data": {
      "text/html": [
       "<div>\n",
       "<style scoped>\n",
       "    .dataframe tbody tr th:only-of-type {\n",
       "        vertical-align: middle;\n",
       "    }\n",
       "\n",
       "    .dataframe tbody tr th {\n",
       "        vertical-align: top;\n",
       "    }\n",
       "\n",
       "    .dataframe thead th {\n",
       "        text-align: right;\n",
       "    }\n",
       "</style>\n",
       "<table border=\"1\" class=\"dataframe\">\n",
       "  <thead>\n",
       "    <tr style=\"text-align: right;\">\n",
       "      <th></th>\n",
       "      <th>gender</th>\n",
       "      <th>ever_married</th>\n",
       "      <th>work_type</th>\n",
       "      <th>Residence_type</th>\n",
       "      <th>smoking_status</th>\n",
       "    </tr>\n",
       "  </thead>\n",
       "  <tbody>\n",
       "    <tr>\n",
       "      <th>count</th>\n",
       "      <td>5110</td>\n",
       "      <td>5110</td>\n",
       "      <td>5110</td>\n",
       "      <td>5110</td>\n",
       "      <td>5110</td>\n",
       "    </tr>\n",
       "    <tr>\n",
       "      <th>unique</th>\n",
       "      <td>3</td>\n",
       "      <td>2</td>\n",
       "      <td>5</td>\n",
       "      <td>2</td>\n",
       "      <td>4</td>\n",
       "    </tr>\n",
       "    <tr>\n",
       "      <th>top</th>\n",
       "      <td>Female</td>\n",
       "      <td>Yes</td>\n",
       "      <td>Private</td>\n",
       "      <td>Urban</td>\n",
       "      <td>never smoked</td>\n",
       "    </tr>\n",
       "    <tr>\n",
       "      <th>freq</th>\n",
       "      <td>2994</td>\n",
       "      <td>3353</td>\n",
       "      <td>2925</td>\n",
       "      <td>2596</td>\n",
       "      <td>1892</td>\n",
       "    </tr>\n",
       "  </tbody>\n",
       "</table>\n",
       "</div>"
      ],
      "text/plain": [
       "        gender ever_married work_type Residence_type smoking_status\n",
       "count     5110         5110      5110           5110           5110\n",
       "unique       3            2         5              2              4\n",
       "top     Female          Yes   Private          Urban   never smoked\n",
       "freq      2994         3353      2925           2596           1892"
      ]
     },
     "execution_count": 9,
     "metadata": {},
     "output_type": "execute_result"
    }
   ],
   "source": [
    "#descriptive statistics of categorical columns \n",
    "stroke.describe(include=np.object )"
   ]
  },
  {
   "cell_type": "markdown",
   "metadata": {},
   "source": [
    "###  <span style=\"color: #0099cc;\"> Removing Constant Features <a class=\"anchor\" id=\"9\"></a> "
   ]
  },
  {
   "cell_type": "code",
   "execution_count": 10,
   "metadata": {},
   "outputs": [
    {
     "data": {
      "text/plain": [
       "(5110, 12)"
      ]
     },
     "execution_count": 10,
     "metadata": {},
     "output_type": "execute_result"
    }
   ],
   "source": [
    "#removing constant features\n",
    "stroke=stroke.loc[:,stroke.nunique()!=1]\n",
    "stroke.shape"
   ]
  },
  {
   "cell_type": "code",
   "execution_count": 11,
   "metadata": {},
   "outputs": [
    {
     "data": {
      "text/html": [
       "<div>\n",
       "<style scoped>\n",
       "    .dataframe tbody tr th:only-of-type {\n",
       "        vertical-align: middle;\n",
       "    }\n",
       "\n",
       "    .dataframe tbody tr th {\n",
       "        vertical-align: top;\n",
       "    }\n",
       "\n",
       "    .dataframe thead th {\n",
       "        text-align: right;\n",
       "    }\n",
       "</style>\n",
       "<table border=\"1\" class=\"dataframe\">\n",
       "  <thead>\n",
       "    <tr style=\"text-align: right;\">\n",
       "      <th></th>\n",
       "      <th>gender</th>\n",
       "      <th>age</th>\n",
       "      <th>hypertension</th>\n",
       "      <th>heart_disease</th>\n",
       "      <th>ever_married</th>\n",
       "      <th>work_type</th>\n",
       "      <th>Residence_type</th>\n",
       "      <th>avg_glucose_level</th>\n",
       "      <th>bmi</th>\n",
       "      <th>smoking_status</th>\n",
       "      <th>stroke</th>\n",
       "    </tr>\n",
       "  </thead>\n",
       "  <tbody>\n",
       "    <tr>\n",
       "      <th>0</th>\n",
       "      <td>Male</td>\n",
       "      <td>67.0</td>\n",
       "      <td>0</td>\n",
       "      <td>1</td>\n",
       "      <td>Yes</td>\n",
       "      <td>Private</td>\n",
       "      <td>Urban</td>\n",
       "      <td>228.69</td>\n",
       "      <td>36.6</td>\n",
       "      <td>formerly smoked</td>\n",
       "      <td>1</td>\n",
       "    </tr>\n",
       "    <tr>\n",
       "      <th>1</th>\n",
       "      <td>Female</td>\n",
       "      <td>61.0</td>\n",
       "      <td>0</td>\n",
       "      <td>0</td>\n",
       "      <td>Yes</td>\n",
       "      <td>Self-employed</td>\n",
       "      <td>Rural</td>\n",
       "      <td>202.21</td>\n",
       "      <td>NaN</td>\n",
       "      <td>never smoked</td>\n",
       "      <td>1</td>\n",
       "    </tr>\n",
       "    <tr>\n",
       "      <th>2</th>\n",
       "      <td>Male</td>\n",
       "      <td>80.0</td>\n",
       "      <td>0</td>\n",
       "      <td>1</td>\n",
       "      <td>Yes</td>\n",
       "      <td>Private</td>\n",
       "      <td>Rural</td>\n",
       "      <td>105.92</td>\n",
       "      <td>32.5</td>\n",
       "      <td>never smoked</td>\n",
       "      <td>1</td>\n",
       "    </tr>\n",
       "    <tr>\n",
       "      <th>3</th>\n",
       "      <td>Female</td>\n",
       "      <td>49.0</td>\n",
       "      <td>0</td>\n",
       "      <td>0</td>\n",
       "      <td>Yes</td>\n",
       "      <td>Private</td>\n",
       "      <td>Urban</td>\n",
       "      <td>171.23</td>\n",
       "      <td>34.4</td>\n",
       "      <td>smokes</td>\n",
       "      <td>1</td>\n",
       "    </tr>\n",
       "    <tr>\n",
       "      <th>4</th>\n",
       "      <td>Female</td>\n",
       "      <td>79.0</td>\n",
       "      <td>1</td>\n",
       "      <td>0</td>\n",
       "      <td>Yes</td>\n",
       "      <td>Self-employed</td>\n",
       "      <td>Rural</td>\n",
       "      <td>174.12</td>\n",
       "      <td>24.0</td>\n",
       "      <td>never smoked</td>\n",
       "      <td>1</td>\n",
       "    </tr>\n",
       "  </tbody>\n",
       "</table>\n",
       "</div>"
      ],
      "text/plain": [
       "   gender   age  hypertension  heart_disease ever_married      work_type  \\\n",
       "0    Male  67.0             0              1          Yes        Private   \n",
       "1  Female  61.0             0              0          Yes  Self-employed   \n",
       "2    Male  80.0             0              1          Yes        Private   \n",
       "3  Female  49.0             0              0          Yes        Private   \n",
       "4  Female  79.0             1              0          Yes  Self-employed   \n",
       "\n",
       "  Residence_type  avg_glucose_level   bmi   smoking_status  stroke  \n",
       "0          Urban             228.69  36.6  formerly smoked       1  \n",
       "1          Rural             202.21   NaN     never smoked       1  \n",
       "2          Rural             105.92  32.5     never smoked       1  \n",
       "3          Urban             171.23  34.4           smokes       1  \n",
       "4          Rural             174.12  24.0     never smoked       1  "
      ]
     },
     "execution_count": 11,
     "metadata": {},
     "output_type": "execute_result"
    }
   ],
   "source": [
    "#Removing Unwanted columns from stroke dataset\n",
    "stroke=stroke.drop(columns=['id'])\n",
    "stroke.head(5)"
   ]
  },
  {
   "cell_type": "markdown",
   "metadata": {},
   "source": [
    "### <span style=\"color: #0099cc;\"> Handling Missing Values <a class=\"anchor\" id=\"10\"></a>  "
   ]
  },
  {
   "cell_type": "code",
   "execution_count": 12,
   "metadata": {},
   "outputs": [
    {
     "data": {
      "text/plain": [
       "gender                 0\n",
       "age                    0\n",
       "hypertension           0\n",
       "heart_disease          0\n",
       "ever_married           0\n",
       "work_type              0\n",
       "Residence_type         0\n",
       "avg_glucose_level      0\n",
       "bmi                  201\n",
       "smoking_status         0\n",
       "stroke                 0\n",
       "dtype: int64"
      ]
     },
     "execution_count": 12,
     "metadata": {},
     "output_type": "execute_result"
    }
   ],
   "source": [
    "#checking missing values \n",
    "stroke.isna().sum()"
   ]
  },
  {
   "cell_type": "code",
   "execution_count": 13,
   "metadata": {},
   "outputs": [],
   "source": [
    "#Dropping the missing value in the dataframe \n",
    "stroke=stroke.dropna()"
   ]
  },
  {
   "cell_type": "code",
   "execution_count": 14,
   "metadata": {},
   "outputs": [
    {
     "data": {
      "text/plain": [
       "gender               0\n",
       "age                  0\n",
       "hypertension         0\n",
       "heart_disease        0\n",
       "ever_married         0\n",
       "work_type            0\n",
       "Residence_type       0\n",
       "avg_glucose_level    0\n",
       "bmi                  0\n",
       "smoking_status       0\n",
       "stroke               0\n",
       "dtype: int64"
      ]
     },
     "execution_count": 14,
     "metadata": {},
     "output_type": "execute_result"
    }
   ],
   "source": [
    "#Validating the dropped missing values\n",
    "stroke.isna().sum()"
   ]
  },
  {
   "cell_type": "markdown",
   "metadata": {},
   "source": [
    "### <span style=\"color: #0099cc;\">  Handling Outliers <a class=\"anchor\" id=\"11\"></a> "
   ]
  },
  {
   "cell_type": "code",
   "execution_count": 15,
   "metadata": {},
   "outputs": [
    {
     "data": {
      "image/png": "[encoded data removed]",
      "text/plain": [
       "<Figure size 432x288 with 1 Axes>"
      ]
     },
     "metadata": {
      "needs_background": "light"
     },
     "output_type": "display_data"
    }
   ],
   "source": [
    "#checking outliers in bmi column\n",
    "sns.boxplot(y=\"bmi\",data=stroke)\n",
    "plt.title(\"Boxplot of BMI\")\n",
    "plt.show()"
   ]
  },
  {
   "cell_type": "code",
   "execution_count": 16,
   "metadata": {},
   "outputs": [
    {
     "data": {
      "image/png": "[encoded data removed]",
      "text/plain": [
       "<Figure size 432x288 with 1 Axes>"
      ]
     },
     "metadata": {
      "needs_background": "light"
     },
     "output_type": "display_data"
    }
   ],
   "source": [
    "#checking outliers in avg_glucose_level column\n",
    "sns.boxplot(y=\"e\",data=stroke)\n",
    "plt.title(\"Boxplot of Average Glucose level\")\n",
    "plt.show()"
   ]
  },
  {
   "cell_type": "code",
   "execution_count": 17,
   "metadata": {},
   "outputs": [
    {
     "name": "stdout",
     "output_type": "stream",
     "text": [
      "IQR of the BMI column is : 9.600000000000001\n"
     ]
    }
   ],
   "source": [
    "#Handling outliers with IQR range method in bmi column \n",
    "Q1 = stroke['bmi'].quantile(0.25)\n",
    "Q3 =stroke['bmi'].quantile(0.75)\n",
    "IQR =Q3-Q1\n",
    "print(\"IQR of the BMI column is :\",IQR)\n",
    "\n",
    "#printing IQR of BMI column in the dataset"
   ]
  },
  {
   "cell_type": "code",
   "execution_count": 18,
   "metadata": {},
   "outputs": [
    {
     "name": "stdout",
     "output_type": "stream",
     "text": [
      "IQR of the Avg glucose level column is: 36.5\n"
     ]
    }
   ],
   "source": [
    "#Handling outliers with IQR range method in avg_glucose_level column \n",
    "Q1_ = stroke['avg_glucose_level'].quantile(0.25)\n",
    "Q3_ =stroke['avg_glucose_level'].quantile(0.75)\n",
    "IQR_ =Q3_-Q1_\n",
    "print(\"IQR of the Avg glucose level column is:\",IQR_)\n",
    "\n",
    "#printing IQR of Avergae Glucose level column in the dataset"
   ]
  },
  {
   "cell_type": "code",
   "execution_count": 19,
   "metadata": {},
   "outputs": [
    {
     "data": {
      "text/plain": [
       "0       False\n",
       "2       False\n",
       "3       False\n",
       "4       False\n",
       "5       False\n",
       "        ...  \n",
       "5104    False\n",
       "5106    False\n",
       "5107    False\n",
       "5108    False\n",
       "5109    False\n",
       "Name: bmi, Length: 4909, dtype: bool"
      ]
     },
     "execution_count": 19,
     "metadata": {},
     "output_type": "execute_result"
    }
   ],
   "source": [
    "#checking outliers in the BMI column\n",
    "(stroke.bmi < (Q1-1.5*IQR)) | (stroke.bmi > (Q3 + 1.5*IQR))"
   ]
  },
  {
   "cell_type": "code",
   "execution_count": 20,
   "metadata": {},
   "outputs": [],
   "source": [
    "#Removing the outliers in bmi column\n",
    "stroke = stroke[~((stroke.bmi < (Q1-1.5*IQR)) | (stroke.bmi > (Q3 + 1.5*IQR)))]"
   ]
  },
  {
   "cell_type": "code",
   "execution_count": 21,
   "metadata": {},
   "outputs": [
    {
     "data": {
      "image/png": "[encoded data removed]",
      "text/plain": [
       "<Figure size 432x288 with 1 Axes>"
      ]
     },
     "metadata": {
      "needs_background": "light"
     },
     "output_type": "display_data"
    }
   ],
   "source": [
    "#Validating the removal of outliers \n",
    "sns.boxplot(y=\"bmi\",data=stroke)\n",
    "plt.title(\"BMI\")\n",
    "plt.show()"
   ]
  },
  {
   "cell_type": "code",
   "execution_count": 22,
   "metadata": {},
   "outputs": [
    {
     "data": {
      "text/plain": [
       "0        True\n",
       "2       False\n",
       "3        True\n",
       "4        True\n",
       "5        True\n",
       "        ...  \n",
       "5104    False\n",
       "5106    False\n",
       "5107    False\n",
       "5108    False\n",
       "5109    False\n",
       "Name: avg_glucose_level, Length: 4799, dtype: bool"
      ]
     },
     "execution_count": 22,
     "metadata": {},
     "output_type": "execute_result"
    }
   ],
   "source": [
    "#checking outliers in the avg_glucose_level column\n",
    "(stroke.avg_glucose_level < (Q1_-1.5*IQR_)) | (stroke.avg_glucose_level > (Q3_ + 1.5*IQR_))"
   ]
  },
  {
   "cell_type": "code",
   "execution_count": 23,
   "metadata": {},
   "outputs": [],
   "source": [
    "#Removing the outliers in avg_glucose_level column\n",
    "stroke = stroke[~((stroke.avg_glucose_level < (Q1_-1.5*IQR_)) | (stroke.avg_glucose_level > (Q3_ + 1.5*IQR_)))]"
   ]
  },
  {
   "cell_type": "code",
   "execution_count": 24,
   "metadata": {},
   "outputs": [
    {
     "data": {
      "image/png": "[encoded data removed]",
      "text/plain": [
       "<Figure size 432x288 with 1 Axes>"
      ]
     },
     "metadata": {
      "needs_background": "light"
     },
     "output_type": "display_data"
    }
   ],
   "source": [
    "#Validating the removal of outliers \n",
    "sns.boxplot(y=\"avg_glucose_level\",data=stroke)\n",
    "plt.title(\"Boxplot of Average Glucose level\")\n",
    "plt.show()"
   ]
  },
  {
   "cell_type": "markdown",
   "metadata": {},
   "source": [
    "# <span style=\"color: #0099cc;\">  Data Exploration and Visualization <a class=\"anchor\" id=\"12\"></a> "
   ]
  },
  {
   "cell_type": "markdown",
   "metadata": {},
   "source": [
    "###  <span style=\"color: #0099cc;\">  Univaraite Visualization <a class=\"anchor\" id=\"13\"></a>  "
   ]
  },
  {
   "cell_type": "code",
   "execution_count": 25,
   "metadata": {},
   "outputs": [
    {
     "data": {
      "image/png": "[encoded data removed]",
      "text/plain": [
       "<Figure size 432x288 with 1 Axes>"
      ]
     },
     "metadata": {
      "needs_background": "light"
     },
     "output_type": "display_data"
    }
   ],
   "source": [
    "#One variable plot analysis\n",
    "\n",
    "sns.distplot(stroke.bmi,kde=False).set_title(\"Frequency of patients across different BMI\",fontsize=15)\n",
    "plt.xlabel(\"BMI levels\")\n",
    "plt.ylabel(\"Frequency\")\n",
    "plt.show()"
   ]
  },
  {
   "cell_type": "markdown",
   "metadata": {},
   "source": [
    "__1. Histogram of the <code>BMI</code> column__\n",
    "* The distribution of above plot is normal with large number of patients having the BMI levels between 25-30 kg/m2."
   ]
  },
  {
   "cell_type": "code",
   "execution_count": 26,
   "metadata": {},
   "outputs": [
    {
     "data": {
      "image/png": "[encoded data removed]",
      "text/plain": [
       "<Figure size 432x288 with 1 Axes>"
      ]
     },
     "metadata": {
      "needs_background": "light"
     },
     "output_type": "display_data"
    }
   ],
   "source": [
    "sns.distplot(stroke['avg_glucose_level'],kde=False).set_title(\"Frequency of patients across different Glucose levels\",fontsize=15)\n",
    "plt.xlabel(\"Average Glucose Levels\")\n",
    "plt.ylabel(\"Frequency\")\n",
    "plt.show()"
   ]
  },
  {
   "cell_type": "markdown",
   "metadata": {},
   "source": [
    "__2. Histogram of the <code>Average Glucose Level</code> column__\n",
    "* The distribution of plot is right skewed with maximum number of patients having the Average Glucose levels between 75-95 mg/dl"
   ]
  },
  {
   "cell_type": "markdown",
   "metadata": {},
   "source": [
    "### <span style=\"color: #0099cc;\">  Bivariate Visualization  <a class=\"anchor\" id=\"14\"></a>  "
   ]
  },
  {
   "cell_type": "code",
   "execution_count": 27,
   "metadata": {},
   "outputs": [
    {
     "data": {
      "image/png": "[encoded data removed]",
      "text/plain": [
       "<Figure size 330.375x288 with 1 Axes>"
      ]
     },
     "metadata": {
      "needs_background": "light"
     },
     "output_type": "display_data"
    }
   ],
   "source": [
    "#Two varaible plot analysis \n",
    "\n",
    "#Visualizing the density of people having a stroke across different bmi levels \n",
    "\n",
    "sns.FacetGrid(stroke,hue='stroke',height=4)\\\n",
    ".map(sns.distplot,'bmi')\\\n",
    ".add_legend();\n",
    "plt.title(\"Densisty of People having Stroke across differnet BMI levels\",fontsize=15)\n",
    "plt.ylabel(\"Density\")\n",
    "plt.xlabel(\"BMI\")\n",
    "plt.show()"
   ]
  },
  {
   "cell_type": "markdown",
   "metadata": {},
   "source": [
    "__3. Density plot of <code>BMI</code> for <code>stroke</code>__\n",
    "* The plot suggests that more than 70% of patients having BMI levels between 28-30 kg/m2 have chances of getting stroke and also more than 50% of patients having BMI levels from 22-27 kg/m2 have chances of not getting stroke."
   ]
  },
  {
   "cell_type": "code",
   "execution_count": 28,
   "metadata": {},
   "outputs": [
    {
     "data": {
      "image/png": "[encoded data removed]",
      "text/plain": [
       "<Figure size 432x288 with 1 Axes>"
      ]
     },
     "metadata": {
      "needs_background": "light"
     },
     "output_type": "display_data"
    }
   ],
   "source": [
    "sns.countplot(x='heart_disease',data=stroke,hue='gender')\n",
    "plt.title(\"Frequency of Patients having stroke across different gender\")\n",
    "plt.ylabel('Count')\n",
    "plt.xlabel('Heart Disease')\n",
    "plt.legend(title = \"Gender\")\n",
    "# position the legend outside the chart\n",
    "plt.legend(bbox_to_anchor=(1.05, 1),loc=2, borderaxespad=0.,title=\"Gender\");\n",
    "plt.show()"
   ]
  },
  {
   "cell_type": "markdown",
   "metadata": {},
   "source": [
    "__4. Bar plot of <code>Gender</code> for <code>Heart Disease</code>__\n",
    "* The plot suggests that count of Females not having heart disease is more than that of Males and also count of Males having heart disease is more than that of Females based on the dataset."
   ]
  },
  {
   "cell_type": "markdown",
   "metadata": {},
   "source": [
    "###  <span style=\"color: #0099cc;\">  Trivariate Visualization   <a class=\"anchor\" id=\"15\"></a>"
   ]
  },
  {
   "cell_type": "code",
   "execution_count": 29,
   "metadata": {},
   "outputs": [
    {
     "data": {
      "image/png": "[encoded data removed]",
      "text/plain": [
       "<Figure size 432x288 with 1 Axes>"
      ]
     },
     "metadata": {
      "needs_background": "light"
     },
     "output_type": "display_data"
    }
   ],
   "source": [
    "#Three variabe plot analysis \n",
    "\n",
    "#Visulaizing the stroke among patients across different age groups and based on heart disease\n",
    "\n",
    "sns.boxplot(y=\"age\",x=\"heart_disease\",hue=\"stroke\",data=stroke)\n",
    "plt.title(\"Exploring stroke among different age groups based on patient's heart disease\",fontsize=15)\n",
    "plt.xlabel(\"Heart Disease\")\n",
    "plt.ylabel(\"Age\")\n",
    "# position the legend outside the chart\n",
    "plt.legend(bbox_to_anchor=(1.05, 1),loc=2, borderaxespad=0.,title=\"Stroke\");\n",
    "plt.show()"
   ]
  },
  {
   "cell_type": "markdown",
   "metadata": {},
   "source": [
    "__5. Box plot of <code>Age</code> by <code>Heart Disease</code> for <code>Stroke</code>__\n",
    "* The plot suggests that more than 75% of patients without heart disease are more likely to have stroke between age group 75-85 and more than 50% of patients with heart disease are more likely to have stroke between age group 75-80  "
   ]
  },
  {
   "cell_type": "code",
   "execution_count": 30,
   "metadata": {},
   "outputs": [
    {
     "data": {
      "image/png": "[encoded data removed]",
      "text/plain": [
       "<Figure size 432x288 with 1 Axes>"
      ]
     },
     "metadata": {
      "needs_background": "light"
     },
     "output_type": "display_data"
    }
   ],
   "source": [
    "#Visulaizing the stroke among patients across different age groups and based on hypertension\n",
    "\n",
    "sns.boxplot(y=\"age\",x=\"hypertension\",hue=\"stroke\",data=stroke)\n",
    "plt.title(\"Exploring stroke among different age groups based on patient's Hypertension\",fontsize=15)\n",
    "plt.xlabel(\"hypertension\")\n",
    "plt.ylabel(\"Age\")\n",
    "# position the legend outside the chart\n",
    "plt.legend(bbox_to_anchor=(1.05, 1),loc=2, borderaxespad=0.,title=\"Stroke\");\n",
    "plt.show()"
   ]
  },
  {
   "cell_type": "markdown",
   "metadata": {},
   "source": [
    "__6. Box plot of <code>Age</code> by <code>Hypertension</code> for <code>Stroke</code>__\n",
    "* The plot suggests that more than 50% of patients without hypertension are more likely to have stroke between age group 70- 79 and more than 50% of patients with hypertension are more likely to have stroke between age group 70-75  "
   ]
  },
  {
   "cell_type": "markdown",
   "metadata": {},
   "source": [
    "# <span style=\"color: #0099cc;\"> Summary and Conclusions <a class=\"anchor\" id=\"16\"></a>  \n",
    "\n",
    "* Dataset is now cleaned using preprocessing techniques and is ready for modelling .\n",
    "* Males are more likely to have heart disease than Females\n",
    "* Large number of patients have BMI levels between 25-30 kg/m2 and Average Glucose levels between 75-95 mg/dl\n",
    "* Around 70% of patients having BMI levels between 28-30 kg/m2 have chances of getting stroke so its not clear since large  portion of patients have BMI levels between 25-30 kg/m2\n",
    "* We cannot derive any significant relationship between age of patients and patients having heart disease and hypertension since patients having stroke and not having stroke fall into same age group. \n",
    "* Patients with Higher Age has more chances of getting a stroke.\n"
   ]
  },
  {
   "cell_type": "markdown",
   "metadata": {},
   "source": [
    "# <span style=\"color: #0099cc;\"> References <a class=\"anchor\" id=\"17\"></a> \n",
    "\n",
    "Jupyter Notebook Users Manual.ipynb\n",
    "Jupyter Notebook Users Manual.ipynb. (2021). Retrieved 11 April 2021, from https://jupyter.brynmawr.edu/services/public/dblank/Jupyter%20Notebook%20Users%20Manual.ipynb\n",
    "\n",
    "\n",
    "Seaborn | www.featureranking.com\n",
    "Seaborn | www.featureranking.com. (2021). Retrieved 10 April 2021, from https://www.featureranking.com/tutorials/python-tutorials/seaborn/\n",
    "\n",
    "\n",
    "notebook?, H. and Dancho, M.\n",
    "notebook?, H., & Dancho, M. (2014). How can I add a table of contents to a Jupyter / JupyterLab notebook?. Retrieved 10 April 2021, from https://stackoverflow.com/questions/21151450/how-can-i-add-a-table-of-contents-to-a-jupyter-jupyterlab-notebook#:~:text=In%20the%20note\n",
    "    \n",
    "Predicting stroke along with EDA (90% accuracy)\n",
    "Predicting stroke along with EDA (90% accuracy). (2021). Retrieved 11 April 2021, from https://www.kaggle.com/smriti19/predicting-stroke-along-with-eda-90-accuracy"
   ]
  },
  {
   "cell_type": "code",
   "execution_count": 32,
   "metadata": {},
   "outputs": [
    {
     "data": {
      "text/html": [
       "<div>\n",
       "<style scoped>\n",
       "    .dataframe tbody tr th:only-of-type {\n",
       "        vertical-align: middle;\n",
       "    }\n",
       "\n",
       "    .dataframe tbody tr th {\n",
       "        vertical-align: top;\n",
       "    }\n",
       "\n",
       "    .dataframe thead th {\n",
       "        text-align: right;\n",
       "    }\n",
       "</style>\n",
       "<table border=\"1\" class=\"dataframe\">\n",
       "  <thead>\n",
       "    <tr style=\"text-align: right;\">\n",
       "      <th></th>\n",
       "      <th>gender</th>\n",
       "      <th>age</th>\n",
       "      <th>hypertension</th>\n",
       "      <th>heart_disease</th>\n",
       "      <th>ever_married</th>\n",
       "      <th>work_type</th>\n",
       "      <th>Residence_type</th>\n",
       "      <th>avg_glucose_level</th>\n",
       "      <th>bmi</th>\n",
       "      <th>smoking_status</th>\n",
       "      <th>stroke</th>\n",
       "    </tr>\n",
       "  </thead>\n",
       "  <tbody>\n",
       "    <tr>\n",
       "      <th>2</th>\n",
       "      <td>Male</td>\n",
       "      <td>80.0</td>\n",
       "      <td>0</td>\n",
       "      <td>1</td>\n",
       "      <td>Yes</td>\n",
       "      <td>Private</td>\n",
       "      <td>Rural</td>\n",
       "      <td>105.92</td>\n",
       "      <td>32.5</td>\n",
       "      <td>never smoked</td>\n",
       "      <td>1</td>\n",
       "    </tr>\n",
       "    <tr>\n",
       "      <th>6</th>\n",
       "      <td>Male</td>\n",
       "      <td>74.0</td>\n",
       "      <td>1</td>\n",
       "      <td>1</td>\n",
       "      <td>Yes</td>\n",
       "      <td>Private</td>\n",
       "      <td>Rural</td>\n",
       "      <td>70.09</td>\n",
       "      <td>27.4</td>\n",
       "      <td>never smoked</td>\n",
       "      <td>1</td>\n",
       "    </tr>\n",
       "    <tr>\n",
       "      <th>7</th>\n",
       "      <td>Female</td>\n",
       "      <td>69.0</td>\n",
       "      <td>0</td>\n",
       "      <td>0</td>\n",
       "      <td>No</td>\n",
       "      <td>Private</td>\n",
       "      <td>Urban</td>\n",
       "      <td>94.39</td>\n",
       "      <td>22.8</td>\n",
       "      <td>never smoked</td>\n",
       "      <td>1</td>\n",
       "    </tr>\n",
       "    <tr>\n",
       "      <th>9</th>\n",
       "      <td>Female</td>\n",
       "      <td>78.0</td>\n",
       "      <td>0</td>\n",
       "      <td>0</td>\n",
       "      <td>Yes</td>\n",
       "      <td>Private</td>\n",
       "      <td>Urban</td>\n",
       "      <td>58.57</td>\n",
       "      <td>24.2</td>\n",
       "      <td>Unknown</td>\n",
       "      <td>1</td>\n",
       "    </tr>\n",
       "    <tr>\n",
       "      <th>10</th>\n",
       "      <td>Female</td>\n",
       "      <td>81.0</td>\n",
       "      <td>1</td>\n",
       "      <td>0</td>\n",
       "      <td>Yes</td>\n",
       "      <td>Private</td>\n",
       "      <td>Rural</td>\n",
       "      <td>80.43</td>\n",
       "      <td>29.7</td>\n",
       "      <td>never smoked</td>\n",
       "      <td>1</td>\n",
       "    </tr>\n",
       "  </tbody>\n",
       "</table>\n",
       "</div>"
      ],
      "text/plain": [
       "    gender   age  hypertension  heart_disease ever_married work_type  \\\n",
       "2     Male  80.0             0              1          Yes   Private   \n",
       "6     Male  74.0             1              1          Yes   Private   \n",
       "7   Female  69.0             0              0           No   Private   \n",
       "9   Female  78.0             0              0          Yes   Private   \n",
       "10  Female  81.0             1              0          Yes   Private   \n",
       "\n",
       "   Residence_type  avg_glucose_level   bmi smoking_status  stroke  \n",
       "2           Rural             105.92  32.5   never smoked       1  \n",
       "6           Rural              70.09  27.4   never smoked       1  \n",
       "7           Urban              94.39  22.8   never smoked       1  \n",
       "9           Urban              58.57  24.2        Unknown       1  \n",
       "10          Rural              80.43  29.7   never smoked       1  "
      ]
     },
     "execution_count": 32,
     "metadata": {},
     "output_type": "execute_result"
    }
   ],
   "source": [
    "stroke.head()"
   ]
  },
  {
   "cell_type": "code",
   "execution_count": 33,
   "metadata": {},
   "outputs": [],
   "source": [
    "stroke.to_csv('Cleaned_Data.csv',index = False)"
   ]
  },
  {
   "cell_type": "code",
   "execution_count": null,
   "metadata": {},
   "outputs": [],
   "source": []
  }
 ],
 "metadata": {
  "kernelspec": {
   "display_name": "Python 3",
   "language": "python",
   "name": "python3"
  },
  "language_info": {
   "codemirror_mode": {
    "name": "ipython",
    "version": 3
   },
   "file_extension": ".py",
   "mimetype": "text/x-python",
   "name": "python",
   "nbconvert_exporter": "python",
   "pygments_lexer": "ipython3",
   "version": "3.8.8"
  }
 },
 "nbformat": 4,
 "nbformat_minor": 4
}
